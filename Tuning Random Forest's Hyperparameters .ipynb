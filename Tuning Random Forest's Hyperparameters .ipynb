{
 "cells": [
  {
   "cell_type": "markdown",
   "metadata": {},
   "source": [
    "**Goal** : Predict a student chances of admission for a particular university."
   ]
  },
  {
   "cell_type": "markdown",
   "metadata": {},
   "source": [
    "### Dataset Description"
   ]
  },
  {
   "cell_type": "markdown",
   "metadata": {},
   "source": [
    "**Data Source** :  https://www.kaggle.com/mohansacharya/graduate-admissions"
   ]
  },
  {
   "cell_type": "markdown",
   "metadata": {},
   "source": [
    "> The dataset contains several parameters which are considered important during the application for Masters Programs. The parameters included are : \n",
    "> 1. GRE Scores ( out of 340 ) \n",
    "> 2. TOEFL Scores ( out of 120 )\n",
    "> 3. University Rating ( out of 5 ) \n",
    "> 4. Statement of Purpose Strength ( out of 5 ) \n",
    "> 5. Letter of Recommendation Strength ( out of 5 ) \n",
    "> 6. Undergraduate GPA ( out of 10 ) \n",
    "> 7. Research Experience ( either 0 or 1 ) \n",
    "> 8. Chance of Admit ( ranging from 0 to 1 )"
   ]
  },
  {
   "cell_type": "markdown",
   "metadata": {},
   "source": [
    "#### Loading required libraries"
   ]
  },
  {
   "cell_type": "code",
   "execution_count": 1,
   "metadata": {},
   "outputs": [],
   "source": [
    "# data manipulation and computation\n",
    "import pandas as pd  \n",
    "import numpy as np\n",
    "# visualization\n",
    "import matplotlib.pyplot as plt \n",
    "import seaborn as sns\n",
    "# model implementation\n",
    "from sklearn.model_selection import train_test_split\n",
    "from sklearn.ensemble import RandomForestRegressor\n",
    "from sklearn.metrics import mean_squared_error, r2_score, mean_absolute_error\n",
    "# model visualization\n",
    "from sklearn.tree import export_graphviz\n",
    "import pydot"
   ]
  },
  {
   "cell_type": "code",
   "execution_count": 2,
   "metadata": {},
   "outputs": [],
   "source": [
    "# managing warnings\n",
    "import warnings\n",
    "warnings.filterwarnings(\"ignore\", category=FutureWarning)"
   ]
  },
  {
   "cell_type": "markdown",
   "metadata": {},
   "source": [
    "#### Reading and Inspecting Data"
   ]
  },
  {
   "cell_type": "code",
   "execution_count": 197,
   "metadata": {},
   "outputs": [],
   "source": [
    "adm = pd.read_csv(\"Admission_Predict.csv\")"
   ]
  },
  {
   "cell_type": "code",
   "execution_count": 4,
   "metadata": {},
   "outputs": [
    {
     "data": {
      "text/html": [
       "<div>\n",
       "<style scoped>\n",
       "    .dataframe tbody tr th:only-of-type {\n",
       "        vertical-align: middle;\n",
       "    }\n",
       "\n",
       "    .dataframe tbody tr th {\n",
       "        vertical-align: top;\n",
       "    }\n",
       "\n",
       "    .dataframe thead th {\n",
       "        text-align: right;\n",
       "    }\n",
       "</style>\n",
       "<table border=\"1\" class=\"dataframe\">\n",
       "  <thead>\n",
       "    <tr style=\"text-align: right;\">\n",
       "      <th></th>\n",
       "      <th>Serial No.</th>\n",
       "      <th>GRE Score</th>\n",
       "      <th>TOEFL Score</th>\n",
       "      <th>University Rating</th>\n",
       "      <th>SOP</th>\n",
       "      <th>LOR</th>\n",
       "      <th>CGPA</th>\n",
       "      <th>Research</th>\n",
       "      <th>Chance of Admit</th>\n",
       "    </tr>\n",
       "  </thead>\n",
       "  <tbody>\n",
       "    <tr>\n",
       "      <th>0</th>\n",
       "      <td>1</td>\n",
       "      <td>337</td>\n",
       "      <td>118</td>\n",
       "      <td>4</td>\n",
       "      <td>4.5</td>\n",
       "      <td>4.5</td>\n",
       "      <td>9.65</td>\n",
       "      <td>1</td>\n",
       "      <td>0.92</td>\n",
       "    </tr>\n",
       "    <tr>\n",
       "      <th>1</th>\n",
       "      <td>2</td>\n",
       "      <td>324</td>\n",
       "      <td>107</td>\n",
       "      <td>4</td>\n",
       "      <td>4.0</td>\n",
       "      <td>4.5</td>\n",
       "      <td>8.87</td>\n",
       "      <td>1</td>\n",
       "      <td>0.76</td>\n",
       "    </tr>\n",
       "    <tr>\n",
       "      <th>2</th>\n",
       "      <td>3</td>\n",
       "      <td>316</td>\n",
       "      <td>104</td>\n",
       "      <td>3</td>\n",
       "      <td>3.0</td>\n",
       "      <td>3.5</td>\n",
       "      <td>8.00</td>\n",
       "      <td>1</td>\n",
       "      <td>0.72</td>\n",
       "    </tr>\n",
       "    <tr>\n",
       "      <th>3</th>\n",
       "      <td>4</td>\n",
       "      <td>322</td>\n",
       "      <td>110</td>\n",
       "      <td>3</td>\n",
       "      <td>3.5</td>\n",
       "      <td>2.5</td>\n",
       "      <td>8.67</td>\n",
       "      <td>1</td>\n",
       "      <td>0.80</td>\n",
       "    </tr>\n",
       "    <tr>\n",
       "      <th>4</th>\n",
       "      <td>5</td>\n",
       "      <td>314</td>\n",
       "      <td>103</td>\n",
       "      <td>2</td>\n",
       "      <td>2.0</td>\n",
       "      <td>3.0</td>\n",
       "      <td>8.21</td>\n",
       "      <td>0</td>\n",
       "      <td>0.65</td>\n",
       "    </tr>\n",
       "  </tbody>\n",
       "</table>\n",
       "</div>"
      ],
      "text/plain": [
       "   Serial No.  GRE Score  TOEFL Score  University Rating  SOP  LOR   CGPA  \\\n",
       "0           1        337          118                  4  4.5   4.5  9.65   \n",
       "1           2        324          107                  4  4.0   4.5  8.87   \n",
       "2           3        316          104                  3  3.0   3.5  8.00   \n",
       "3           4        322          110                  3  3.5   2.5  8.67   \n",
       "4           5        314          103                  2  2.0   3.0  8.21   \n",
       "\n",
       "   Research  Chance of Admit   \n",
       "0         1              0.92  \n",
       "1         1              0.76  \n",
       "2         1              0.72  \n",
       "3         1              0.80  \n",
       "4         0              0.65  "
      ]
     },
     "execution_count": 4,
     "metadata": {},
     "output_type": "execute_result"
    }
   ],
   "source": [
    "adm.head()"
   ]
  },
  {
   "cell_type": "code",
   "execution_count": 5,
   "metadata": {},
   "outputs": [
    {
     "name": "stdout",
     "output_type": "stream",
     "text": [
      "<class 'pandas.core.frame.DataFrame'>\n",
      "RangeIndex: 400 entries, 0 to 399\n",
      "Data columns (total 9 columns):\n",
      "Serial No.           400 non-null int64\n",
      "GRE Score            400 non-null int64\n",
      "TOEFL Score          400 non-null int64\n",
      "University Rating    400 non-null int64\n",
      "SOP                  400 non-null float64\n",
      "LOR                  400 non-null float64\n",
      "CGPA                 400 non-null float64\n",
      "Research             400 non-null int64\n",
      "Chance of Admit      400 non-null float64\n",
      "dtypes: float64(4), int64(5)\n",
      "memory usage: 28.2 KB\n"
     ]
    }
   ],
   "source": [
    "adm.info()"
   ]
  },
  {
   "cell_type": "code",
   "execution_count": 6,
   "metadata": {},
   "outputs": [
    {
     "data": {
      "text/html": [
       "<div>\n",
       "<style scoped>\n",
       "    .dataframe tbody tr th:only-of-type {\n",
       "        vertical-align: middle;\n",
       "    }\n",
       "\n",
       "    .dataframe tbody tr th {\n",
       "        vertical-align: top;\n",
       "    }\n",
       "\n",
       "    .dataframe thead th {\n",
       "        text-align: right;\n",
       "    }\n",
       "</style>\n",
       "<table border=\"1\" class=\"dataframe\">\n",
       "  <thead>\n",
       "    <tr style=\"text-align: right;\">\n",
       "      <th></th>\n",
       "      <th>Serial No.</th>\n",
       "      <th>GRE Score</th>\n",
       "      <th>TOEFL Score</th>\n",
       "      <th>University Rating</th>\n",
       "      <th>SOP</th>\n",
       "      <th>LOR</th>\n",
       "      <th>CGPA</th>\n",
       "      <th>Research</th>\n",
       "      <th>Chance of Admit</th>\n",
       "    </tr>\n",
       "  </thead>\n",
       "  <tbody>\n",
       "    <tr>\n",
       "      <th>count</th>\n",
       "      <td>400.000000</td>\n",
       "      <td>400.000000</td>\n",
       "      <td>400.000000</td>\n",
       "      <td>400.000000</td>\n",
       "      <td>400.000000</td>\n",
       "      <td>400.000000</td>\n",
       "      <td>400.000000</td>\n",
       "      <td>400.000000</td>\n",
       "      <td>400.000000</td>\n",
       "    </tr>\n",
       "    <tr>\n",
       "      <th>mean</th>\n",
       "      <td>200.500000</td>\n",
       "      <td>316.807500</td>\n",
       "      <td>107.410000</td>\n",
       "      <td>3.087500</td>\n",
       "      <td>3.400000</td>\n",
       "      <td>3.452500</td>\n",
       "      <td>8.598925</td>\n",
       "      <td>0.547500</td>\n",
       "      <td>0.724350</td>\n",
       "    </tr>\n",
       "    <tr>\n",
       "      <th>std</th>\n",
       "      <td>115.614301</td>\n",
       "      <td>11.473646</td>\n",
       "      <td>6.069514</td>\n",
       "      <td>1.143728</td>\n",
       "      <td>1.006869</td>\n",
       "      <td>0.898478</td>\n",
       "      <td>0.596317</td>\n",
       "      <td>0.498362</td>\n",
       "      <td>0.142609</td>\n",
       "    </tr>\n",
       "    <tr>\n",
       "      <th>min</th>\n",
       "      <td>1.000000</td>\n",
       "      <td>290.000000</td>\n",
       "      <td>92.000000</td>\n",
       "      <td>1.000000</td>\n",
       "      <td>1.000000</td>\n",
       "      <td>1.000000</td>\n",
       "      <td>6.800000</td>\n",
       "      <td>0.000000</td>\n",
       "      <td>0.340000</td>\n",
       "    </tr>\n",
       "    <tr>\n",
       "      <th>25%</th>\n",
       "      <td>100.750000</td>\n",
       "      <td>308.000000</td>\n",
       "      <td>103.000000</td>\n",
       "      <td>2.000000</td>\n",
       "      <td>2.500000</td>\n",
       "      <td>3.000000</td>\n",
       "      <td>8.170000</td>\n",
       "      <td>0.000000</td>\n",
       "      <td>0.640000</td>\n",
       "    </tr>\n",
       "    <tr>\n",
       "      <th>50%</th>\n",
       "      <td>200.500000</td>\n",
       "      <td>317.000000</td>\n",
       "      <td>107.000000</td>\n",
       "      <td>3.000000</td>\n",
       "      <td>3.500000</td>\n",
       "      <td>3.500000</td>\n",
       "      <td>8.610000</td>\n",
       "      <td>1.000000</td>\n",
       "      <td>0.730000</td>\n",
       "    </tr>\n",
       "    <tr>\n",
       "      <th>75%</th>\n",
       "      <td>300.250000</td>\n",
       "      <td>325.000000</td>\n",
       "      <td>112.000000</td>\n",
       "      <td>4.000000</td>\n",
       "      <td>4.000000</td>\n",
       "      <td>4.000000</td>\n",
       "      <td>9.062500</td>\n",
       "      <td>1.000000</td>\n",
       "      <td>0.830000</td>\n",
       "    </tr>\n",
       "    <tr>\n",
       "      <th>max</th>\n",
       "      <td>400.000000</td>\n",
       "      <td>340.000000</td>\n",
       "      <td>120.000000</td>\n",
       "      <td>5.000000</td>\n",
       "      <td>5.000000</td>\n",
       "      <td>5.000000</td>\n",
       "      <td>9.920000</td>\n",
       "      <td>1.000000</td>\n",
       "      <td>0.970000</td>\n",
       "    </tr>\n",
       "  </tbody>\n",
       "</table>\n",
       "</div>"
      ],
      "text/plain": [
       "       Serial No.   GRE Score  TOEFL Score  University Rating         SOP  \\\n",
       "count  400.000000  400.000000   400.000000         400.000000  400.000000   \n",
       "mean   200.500000  316.807500   107.410000           3.087500    3.400000   \n",
       "std    115.614301   11.473646     6.069514           1.143728    1.006869   \n",
       "min      1.000000  290.000000    92.000000           1.000000    1.000000   \n",
       "25%    100.750000  308.000000   103.000000           2.000000    2.500000   \n",
       "50%    200.500000  317.000000   107.000000           3.000000    3.500000   \n",
       "75%    300.250000  325.000000   112.000000           4.000000    4.000000   \n",
       "max    400.000000  340.000000   120.000000           5.000000    5.000000   \n",
       "\n",
       "             LOR         CGPA    Research  Chance of Admit   \n",
       "count  400.000000  400.000000  400.000000        400.000000  \n",
       "mean     3.452500    8.598925    0.547500          0.724350  \n",
       "std      0.898478    0.596317    0.498362          0.142609  \n",
       "min      1.000000    6.800000    0.000000          0.340000  \n",
       "25%      3.000000    8.170000    0.000000          0.640000  \n",
       "50%      3.500000    8.610000    1.000000          0.730000  \n",
       "75%      4.000000    9.062500    1.000000          0.830000  \n",
       "max      5.000000    9.920000    1.000000          0.970000  "
      ]
     },
     "execution_count": 6,
     "metadata": {},
     "output_type": "execute_result"
    }
   ],
   "source": [
    "adm.describe()"
   ]
  },
  {
   "cell_type": "markdown",
   "metadata": {},
   "source": [
    "### Extracting features and label and split data into Train and Test set"
   ]
  },
  {
   "cell_type": "code",
   "execution_count": 198,
   "metadata": {},
   "outputs": [],
   "source": [
    "y = adm['Chance of Admit ']\n",
    "X = adm.iloc[:,1:8]"
   ]
  },
  {
   "cell_type": "code",
   "execution_count": 8,
   "metadata": {},
   "outputs": [],
   "source": [
    "X_train, X_test, y_train, y_test = train_test_split(X, y, test_size = 0.2, random_state = 123)"
   ]
  },
  {
   "cell_type": "code",
   "execution_count": 9,
   "metadata": {},
   "outputs": [
    {
     "name": "stdout",
     "output_type": "stream",
     "text": [
      "X_train:  (320, 7)\n",
      "y_train:  (320,)\n",
      "X_test:  (80, 7)\n",
      "y_test:  (80,)\n"
     ]
    }
   ],
   "source": [
    "print(\"X_train: \", X_train.shape)\n",
    "print(\"y_train: \", y_train.shape)\n",
    "print(\"X_test: \", X_test.shape)\n",
    "print(\"y_test: \", y_test.shape)"
   ]
  },
  {
   "cell_type": "markdown",
   "metadata": {},
   "source": [
    "### Training the model and making predictions"
   ]
  },
  {
   "cell_type": "code",
   "execution_count": 181,
   "metadata": {},
   "outputs": [],
   "source": [
    "# Instantiate an object of the class RandomForestRegressor\n",
    "randomForest = RandomForestRegressor(random_state=123)"
   ]
  },
  {
   "cell_type": "code",
   "execution_count": 182,
   "metadata": {},
   "outputs": [
    {
     "data": {
      "text/plain": [
       "RandomForestRegressor(bootstrap=True, criterion='mse', max_depth=None,\n",
       "           max_features='auto', max_leaf_nodes=None,\n",
       "           min_impurity_decrease=0.0, min_impurity_split=None,\n",
       "           min_samples_leaf=1, min_samples_split=2,\n",
       "           min_weight_fraction_leaf=0.0, n_estimators=10, n_jobs=None,\n",
       "           oob_score=False, random_state=123, verbose=0, warm_start=False)"
      ]
     },
     "execution_count": 182,
     "metadata": {},
     "output_type": "execute_result"
    }
   ],
   "source": [
    "randomForest.fit(X_train, y_train)"
   ]
  },
  {
   "cell_type": "code",
   "execution_count": 183,
   "metadata": {},
   "outputs": [],
   "source": [
    "# Making Prediction\n",
    "y_pred = randomForest.predict(X_test)"
   ]
  },
  {
   "cell_type": "code",
   "execution_count": 513,
   "metadata": {
    "scrolled": true
   },
   "outputs": [
    {
     "data": {
      "image/png": "[encoded data removed]",
      "text/plain": [
       "<Figure size 432x288 with 1 Axes>"
      ]
     },
     "metadata": {
      "needs_background": "light"
     },
     "output_type": "display_data"
    }
   ],
   "source": [
    "# Plot actual vs predicted\n",
    "sns.scatterplot(y_test, y_pred);"
   ]
  },
  {
   "cell_type": "code",
   "execution_count": 435,
   "metadata": {},
   "outputs": [
    {
     "data": {
      "text/html": [
       "<div>\n",
       "<style scoped>\n",
       "    .dataframe tbody tr th:only-of-type {\n",
       "        vertical-align: middle;\n",
       "    }\n",
       "\n",
       "    .dataframe tbody tr th {\n",
       "        vertical-align: top;\n",
       "    }\n",
       "\n",
       "    .dataframe thead th {\n",
       "        text-align: right;\n",
       "    }\n",
       "</style>\n",
       "<table border=\"1\" class=\"dataframe\">\n",
       "  <thead>\n",
       "    <tr style=\"text-align: right;\">\n",
       "      <th></th>\n",
       "      <th>feature</th>\n",
       "      <th>importance</th>\n",
       "    </tr>\n",
       "  </thead>\n",
       "  <tbody>\n",
       "    <tr>\n",
       "      <th>5</th>\n",
       "      <td>CGPA</td>\n",
       "      <td>0.470627</td>\n",
       "    </tr>\n",
       "    <tr>\n",
       "      <th>0</th>\n",
       "      <td>GRE Score</td>\n",
       "      <td>0.311116</td>\n",
       "    </tr>\n",
       "    <tr>\n",
       "      <th>1</th>\n",
       "      <td>TOEFL Score</td>\n",
       "      <td>0.128691</td>\n",
       "    </tr>\n",
       "    <tr>\n",
       "      <th>2</th>\n",
       "      <td>University Rating</td>\n",
       "      <td>0.035536</td>\n",
       "    </tr>\n",
       "    <tr>\n",
       "      <th>3</th>\n",
       "      <td>SOP</td>\n",
       "      <td>0.033776</td>\n",
       "    </tr>\n",
       "    <tr>\n",
       "      <th>4</th>\n",
       "      <td>LOR</td>\n",
       "      <td>0.012759</td>\n",
       "    </tr>\n",
       "    <tr>\n",
       "      <th>6</th>\n",
       "      <td>Research</td>\n",
       "      <td>0.007496</td>\n",
       "    </tr>\n",
       "  </tbody>\n",
       "</table>\n",
       "</div>"
      ],
      "text/plain": [
       "             feature  importance\n",
       "5               CGPA    0.470627\n",
       "0          GRE Score    0.311116\n",
       "1        TOEFL Score    0.128691\n",
       "2  University Rating    0.035536\n",
       "3                SOP    0.033776\n",
       "4               LOR     0.012759\n",
       "6           Research    0.007496"
      ]
     },
     "execution_count": 435,
     "metadata": {},
     "output_type": "execute_result"
    }
   ],
   "source": [
    "# Display and Visualize Feature Importance\n",
    "featuresImportance = pd.DataFrame({'feature': list(X_train.columns),\n",
    "                   'importance': randomForest.feature_importances_}).\\\n",
    "                    sort_values('importance', ascending = False)\n",
    "featuresImportance"
   ]
  },
  {
   "cell_type": "code",
   "execution_count": 436,
   "metadata": {
    "scrolled": true
   },
   "outputs": [
    {
     "data": {
      "image/png": "[encoded data removed]",
      "text/plain": [
       "<Figure size 432x288 with 1 Axes>"
      ]
     },
     "metadata": {
      "needs_background": "light"
     },
     "output_type": "display_data"
    }
   ],
   "source": [
    "plt.bar(featuresImportance['feature'], height =featuresImportance['importance'])\n",
    "plt.ylabel('Importance')\n",
    "plt.xlabel('Variable')\n",
    "plt.grid(axis = 'y', color = '#D3D3D3', linestyle = 'solid')\n",
    "plt.xticks(rotation = 90);"
   ]
  },
  {
   "cell_type": "markdown",
   "metadata": {},
   "source": [
    "### Evaluate the model"
   ]
  },
  {
   "cell_type": "code",
   "execution_count": 187,
   "metadata": {},
   "outputs": [
    {
     "name": "stdout",
     "output_type": "stream",
     "text": [
      "Mean Absolute Error: 0.05\n",
      "Mean Squared Error: 0.01\n",
      "R-squared scores: 0.668\n",
      "Adj.R-squared scores: 0.661\n"
     ]
    }
   ],
   "source": [
    "# Mean absolute error (MAE)\n",
    "mae = mean_absolute_error(y_test, y_pred)\n",
    "\n",
    "# Mean squared error (MSE)\n",
    "mse = mean_squared_error(y_test, y_pred)\n",
    "\n",
    "# R-squared scores\n",
    "r2 = r2_score(y_test, y_pred)\n",
    "\n",
    "# Adjusted R-squared scores\n",
    "adj_r2 = 1 - (1 - r2)*(X_train.shape[0] - 1)/(X_train.shape[0] - X_train.shape[1] - 1)\n",
    "\n",
    "# Print metrics\n",
    "print('Mean Absolute Error:', round(mae, 2))\n",
    "print('Mean Squared Error:', round(mse, 2))\n",
    "print('R-squared scores:', round(r2, 3))\n",
    "print('Adj.R-squared scores:', round(adj_r2, 3))"
   ]
  },
  {
   "cell_type": "code",
   "execution_count": 294,
   "metadata": {},
   "outputs": [],
   "source": [
    "# Pick up one tree from the forest\n",
    "tree = randomForest.estimators_[3]"
   ]
  },
  {
   "cell_type": "code",
   "execution_count": 295,
   "metadata": {},
   "outputs": [],
   "source": [
    "# Export the image to a dot file\n",
    "export_graphviz(tree, out_file='tree.dot', \n",
    "                feature_names = X.columns,\n",
    "                rounded = True, proportion = False, \n",
    "                precision = 2, filled = True)"
   ]
  },
  {
   "cell_type": "code",
   "execution_count": 296,
   "metadata": {},
   "outputs": [],
   "source": [
    "# Export the image as a png file\n",
    "(graph, ) = pydot.graph_from_dot_file('tree.dot')\n",
    "graph.write_png('tree.png');"
   ]
  },
  {
   "cell_type": "markdown",
   "metadata": {},
   "source": [
    "### Exploring model hyperparameters"
   ]
  },
  {
   "cell_type": "markdown",
   "metadata": {},
   "source": [
    "#### 1. Model's Depth"
   ]
  },
  {
   "cell_type": "code",
   "execution_count": 199,
   "metadata": {
    "scrolled": false
   },
   "outputs": [
    {
     "name": "stdout",
     "output_type": "stream",
     "text": [
      "max_depth:  1.0         adj.R2_test:  -0.032\n",
      "max_depth:  2.0         adj.R2_test:  0.486\n",
      "max_depth:  3.0         adj.R2_test:  0.561\n",
      "max_depth:  4.0         adj.R2_test:  0.609\n",
      "max_depth:  5.0         adj.R2_test:  0.656\n",
      "max_depth:  6.0         adj.R2_test:  0.694\n",
      "max_depth:  7.0         adj.R2_test:  0.681\n",
      "max_depth:  8.0         adj.R2_test:  0.679\n",
      "max_depth:  9.0         adj.R2_test:  0.673\n",
      "max_depth:  10.0         adj.R2_test:  0.695\n",
      "max_depth:  11.0         adj.R2_test:  0.688\n",
      "max_depth:  12.0         adj.R2_test:  0.68\n",
      "max_depth:  13.0         adj.R2_test:  0.687\n",
      "max_depth:  14.0         adj.R2_test:  0.68\n",
      "max_depth:  15.0         adj.R2_test:  0.692\n",
      "max_depth:  16.0         adj.R2_test:  0.691\n",
      "max_depth:  17.0         adj.R2_test:  0.686\n",
      "max_depth:  18.0         adj.R2_test:  0.686\n",
      "max_depth:  19.0         adj.R2_test:  0.686\n",
      "max_depth:  20.0         adj.R2_test:  0.686\n",
      "max_depth:  21.0         adj.R2_test:  0.686\n",
      "max_depth:  22.0         adj.R2_test:  0.686\n",
      "max_depth:  23.0         adj.R2_test:  0.686\n",
      "max_depth:  24.0         adj.R2_test:  0.686\n",
      "max_depth:  25.0         adj.R2_test:  0.686\n",
      "max_depth:  26.0         adj.R2_test:  0.686\n",
      "max_depth:  27.0         adj.R2_test:  0.686\n",
      "max_depth:  28.0         adj.R2_test:  0.686\n",
      "max_depth:  29.0         adj.R2_test:  0.686\n",
      "max_depth:  30.0         adj.R2_test:  0.686\n",
      "max_depth:  31.0         adj.R2_test:  0.686\n",
      "max_depth:  32.0         adj.R2_test:  0.686\n",
      "max_depth:  33.0         adj.R2_test:  0.686\n",
      "max_depth:  34.0         adj.R2_test:  0.686\n",
      "max_depth:  35.0         adj.R2_test:  0.686\n",
      "max_depth:  36.0         adj.R2_test:  0.686\n",
      "max_depth:  37.0         adj.R2_test:  0.686\n",
      "max_depth:  38.0         adj.R2_test:  0.686\n",
      "max_depth:  39.0         adj.R2_test:  0.686\n",
      "max_depth:  40.0         adj.R2_test:  0.686\n",
      "max_depth:  41.0         adj.R2_test:  0.686\n",
      "max_depth:  42.0         adj.R2_test:  0.686\n",
      "max_depth:  43.0         adj.R2_test:  0.686\n",
      "max_depth:  44.0         adj.R2_test:  0.686\n",
      "max_depth:  45.0         adj.R2_test:  0.686\n",
      "max_depth:  46.0         adj.R2_test:  0.686\n",
      "max_depth:  47.0         adj.R2_test:  0.686\n",
      "max_depth:  48.0         adj.R2_test:  0.686\n",
      "max_depth:  49.0         adj.R2_test:  0.686\n",
      "max_depth:  50.0         adj.R2_test:  0.686\n"
     ]
    },
    {
     "data": {
      "image/png": "[encoded data removed]",
      "text/plain": [
       "<Figure size 1440x576 with 1 Axes>"
      ]
     },
     "metadata": {
      "needs_background": "light"
     },
     "output_type": "display_data"
    }
   ],
   "source": [
    "max_depths = np.linspace(1,50,50, endpoint=True)\n",
    "train_results = []\n",
    "test_results = []\n",
    "for i, max_depth in enumerate(max_depths):\n",
    "    rf = RandomForestRegressor(max_depth=max_depth, random_state=101)\n",
    "    rf.fit(X_train, y_train)\n",
    "    train_pred = rf.predict(X_train)\n",
    "    r2_train = r2_score(train_pred, y_train)\n",
    "    adjst_R2_train = 1 - (1 - r2_train*(X_train.shape[0] - 1)/(X_train.shape[0] - X_train.shape[1] - 1))\n",
    "    train_results.append(adjst_R2_train)\n",
    "    \n",
    "    y_pred = rf.predict(X_test)\n",
    "    r2_test = r2_score(y_pred, y_test)\n",
    "    adjst_R2_test = 1 - (1 - r2_test*(X_test.shape[0] - 1)/(X_test.shape[0] - X_test.shape[1] - 1))\n",
    "    test_results.append(adjst_R2_test)\n",
    "    print(\"max_depth: \", max_depth, \" \", \" \",\" \", \"  adj.R2_test: \", round(test_results[i],3))\n",
    "\n",
    "from matplotlib.legend_handler import HandlerLine2D\n",
    "plt.figure(figsize = (20,8))\n",
    "line1, = plt.plot(max_depths, train_results, 'b', label=\"Train Adj.R2\")\n",
    "line2, = plt.plot(max_depths, test_results, 'r', label=\"Test Adj.R2\")\n",
    "plt.legend(handler_map={line1: HandlerLine2D(numpoints=2)})\n",
    "plt.ylabel(\"Adjusted R-squared score\")\n",
    "plt.xlabel(\"Tree depth\")\n",
    "plt.xticks(range(1,52,2))\n",
    "plt.show()"
   ]
  },
  {
   "cell_type": "markdown",
   "metadata": {},
   "source": [
    "#### 2. Number of Trees in the forest"
   ]
  },
  {
   "cell_type": "code",
   "execution_count": 454,
   "metadata": {
    "scrolled": false
   },
   "outputs": [
    {
     "name": "stdout",
     "output_type": "stream",
     "text": [
      "nb_estimator:  1     adj.R2:  0.44\n",
      "nb_estimator:  2     adj.R2:  0.601\n",
      "nb_estimator:  3     adj.R2:  0.644\n",
      "nb_estimator:  4     adj.R2:  0.675\n",
      "nb_estimator:  5     adj.R2:  0.672\n",
      "nb_estimator:  6     adj.R2:  0.67\n",
      "nb_estimator:  7     adj.R2:  0.685\n",
      "nb_estimator:  8     adj.R2:  0.677\n",
      "nb_estimator:  9     adj.R2:  0.678\n",
      "nb_estimator:  10     adj.R2:  0.686\n",
      "nb_estimator:  11     adj.R2:  0.678\n",
      "nb_estimator:  12     adj.R2:  0.692\n",
      "nb_estimator:  13     adj.R2:  0.679\n",
      "nb_estimator:  14     adj.R2:  0.677\n",
      "nb_estimator:  15     adj.R2:  0.676\n",
      "nb_estimator:  16     adj.R2:  0.675\n",
      "nb_estimator:  17     adj.R2:  0.666\n",
      "nb_estimator:  18     adj.R2:  0.661\n",
      "nb_estimator:  19     adj.R2:  0.658\n",
      "nb_estimator:  20     adj.R2:  0.653\n",
      "nb_estimator:  21     adj.R2:  0.653\n",
      "nb_estimator:  22     adj.R2:  0.641\n",
      "nb_estimator:  23     adj.R2:  0.64\n",
      "nb_estimator:  24     adj.R2:  0.643\n",
      "nb_estimator:  25     adj.R2:  0.639\n",
      "nb_estimator:  26     adj.R2:  0.645\n",
      "nb_estimator:  27     adj.R2:  0.646\n",
      "nb_estimator:  28     adj.R2:  0.647\n",
      "nb_estimator:  29     adj.R2:  0.647\n",
      "nb_estimator:  30     adj.R2:  0.646\n",
      "nb_estimator:  31     adj.R2:  0.654\n",
      "nb_estimator:  32     adj.R2:  0.657\n",
      "nb_estimator:  33     adj.R2:  0.66\n",
      "nb_estimator:  34     adj.R2:  0.66\n",
      "nb_estimator:  35     adj.R2:  0.665\n",
      "nb_estimator:  36     adj.R2:  0.663\n",
      "nb_estimator:  37     adj.R2:  0.667\n",
      "nb_estimator:  38     adj.R2:  0.67\n",
      "nb_estimator:  39     adj.R2:  0.676\n",
      "nb_estimator:  40     adj.R2:  0.674\n",
      "nb_estimator:  41     adj.R2:  0.676\n",
      "nb_estimator:  42     adj.R2:  0.676\n",
      "nb_estimator:  43     adj.R2:  0.672\n",
      "nb_estimator:  44     adj.R2:  0.669\n",
      "nb_estimator:  45     adj.R2:  0.669\n",
      "nb_estimator:  46     adj.R2:  0.67\n",
      "nb_estimator:  47     adj.R2:  0.669\n",
      "nb_estimator:  48     adj.R2:  0.667\n",
      "nb_estimator:  49     adj.R2:  0.667\n",
      "nb_estimator:  50     adj.R2:  0.671\n",
      "nb_estimator:  51     adj.R2:  0.673\n",
      "nb_estimator:  52     adj.R2:  0.675\n",
      "nb_estimator:  53     adj.R2:  0.676\n",
      "nb_estimator:  54     adj.R2:  0.674\n",
      "nb_estimator:  55     adj.R2:  0.676\n",
      "nb_estimator:  56     adj.R2:  0.679\n",
      "nb_estimator:  57     adj.R2:  0.678\n",
      "nb_estimator:  58     adj.R2:  0.676\n",
      "nb_estimator:  59     adj.R2:  0.676\n",
      "nb_estimator:  60     adj.R2:  0.676\n",
      "nb_estimator:  61     adj.R2:  0.677\n",
      "nb_estimator:  62     adj.R2:  0.676\n",
      "nb_estimator:  63     adj.R2:  0.676\n",
      "nb_estimator:  64     adj.R2:  0.678\n",
      "nb_estimator:  65     adj.R2:  0.675\n",
      "nb_estimator:  66     adj.R2:  0.675\n",
      "nb_estimator:  67     adj.R2:  0.674\n",
      "nb_estimator:  68     adj.R2:  0.674\n",
      "nb_estimator:  69     adj.R2:  0.674\n",
      "nb_estimator:  70     adj.R2:  0.674\n",
      "nb_estimator:  71     adj.R2:  0.672\n",
      "nb_estimator:  72     adj.R2:  0.672\n",
      "nb_estimator:  73     adj.R2:  0.673\n",
      "nb_estimator:  74     adj.R2:  0.673\n",
      "nb_estimator:  75     adj.R2:  0.673\n",
      "nb_estimator:  76     adj.R2:  0.672\n",
      "nb_estimator:  77     adj.R2:  0.671\n",
      "nb_estimator:  78     adj.R2:  0.668\n",
      "nb_estimator:  79     adj.R2:  0.669\n",
      "nb_estimator:  80     adj.R2:  0.67\n",
      "nb_estimator:  81     adj.R2:  0.67\n",
      "nb_estimator:  82     adj.R2:  0.671\n",
      "nb_estimator:  83     adj.R2:  0.67\n",
      "nb_estimator:  84     adj.R2:  0.672\n",
      "nb_estimator:  85     adj.R2:  0.671\n",
      "nb_estimator:  86     adj.R2:  0.672\n",
      "nb_estimator:  87     adj.R2:  0.673\n",
      "nb_estimator:  88     adj.R2:  0.671\n",
      "nb_estimator:  89     adj.R2:  0.669\n",
      "nb_estimator:  90     adj.R2:  0.67\n",
      "nb_estimator:  91     adj.R2:  0.672\n",
      "nb_estimator:  92     adj.R2:  0.671\n",
      "nb_estimator:  93     adj.R2:  0.67\n",
      "nb_estimator:  94     adj.R2:  0.67\n",
      "nb_estimator:  95     adj.R2:  0.672\n",
      "nb_estimator:  96     adj.R2:  0.671\n",
      "nb_estimator:  97     adj.R2:  0.671\n",
      "nb_estimator:  98     adj.R2:  0.671\n",
      "nb_estimator:  99     adj.R2:  0.672\n",
      "nb_estimator:  100     adj.R2:  0.67\n"
     ]
    },
    {
     "data": {
      "image/png": "[encoded data removed]",
      "text/plain": [
       "<Figure size 1440x576 with 1 Axes>"
      ]
     },
     "metadata": {
      "needs_background": "light"
     },
     "output_type": "display_data"
    }
   ],
   "source": [
    "nb_trees = np.linspace(1,100,100, dtype = int, endpoint=True)\n",
    "train_results = []\n",
    "test_results = []\n",
    "for i, n in enumerate(nb_trees):\n",
    "    rf = RandomForestRegressor(n_estimators=n, random_state= 101)\n",
    "    rf.fit(X_train, y_train)\n",
    "    train_pred = rf.predict(X_train)\n",
    "    r2_train = r2_score(train_pred, y_train)\n",
    "    adjst_R2_train = 1 - (1 - r2_train*(X_train.shape[0] - 1)/(X_train.shape[0] - X_train.shape[1] - 1))\n",
    "    train_results.append(adjst_R2_train)\n",
    "    \n",
    "    y_pred = rf.predict(X_test)\n",
    "    r2_test = r2_score(y_pred, y_test)\n",
    "    adjst_R2_test = 1 - (1 - r2_test*(X_test.shape[0] - 1)/(X_test.shape[0] - X_test.shape[1] - 1))\n",
    "    test_results.append(adjst_R2_test)\n",
    "    print(\"nb_estimator: \", n, \" \", \" \", \"adj.R2: \", round(test_results[i],3))\n",
    "\n",
    "from matplotlib.legend_handler import HandlerLine2D\n",
    "plt.figure(figsize = (20,8))\n",
    "line1, = plt.plot(nb_trees, train_results, 'b', label=\"Train Adj.R2\")\n",
    "line2, = plt.plot(nb_trees, test_results, 'r', label=\"Test Adj.R2\")\n",
    "plt.legend(handler_map={line1: HandlerLine2D(numpoints=2)})\n",
    "plt.ylabel(\"Adjusted R-squared score\")\n",
    "plt.xlabel(\"Number of estimators\")\n",
    "plt.xticks(range(1,103,2))\n",
    "plt.show()\n"
   ]
  },
  {
   "cell_type": "markdown",
   "metadata": {},
   "source": [
    "#### 3. Number of Features"
   ]
  },
  {
   "cell_type": "code",
   "execution_count": 102,
   "metadata": {},
   "outputs": [],
   "source": [
    "options = [None, 0.5, 3,\"sqrt\", \"log2\"]"
   ]
  },
  {
   "cell_type": "code",
   "execution_count": 122,
   "metadata": {},
   "outputs": [],
   "source": [
    "def adj_R2_max_features ():\n",
    "    adjst_R2 = []\n",
    "    for option in options:\n",
    "        rf = RandomForestRegressor(random_state= 101, max_features=option)\n",
    "        rf.fit(X_train, y_train)\n",
    "        y_pred = rf.predict(X_test)\n",
    "        r2_test = r2_score(y_pred, y_test)\n",
    "        adjst_R2_test = 1 - (1 - r2_test*(X_test.shape[0] - 1)/(X_test.shape[0] - X_test.shape[1] - 1))\n",
    "        adjst_R2.append(adjst_R2_test)\n",
    "    \n",
    "    x_labels = [\"None\", \"0.5 \", \"3   \",\"sqrt\", \"log2\"]\n",
    "    for i in range(len(adjst_R2)):\n",
    "        print(\"Max_features option: \",x_labels[i], \" \", \" \", \"Adjusted R2 score: \", round(adjst_R2[i],5))"
   ]
  },
  {
   "cell_type": "code",
   "execution_count": 123,
   "metadata": {},
   "outputs": [
    {
     "name": "stdout",
     "output_type": "stream",
     "text": [
      "Max_features option:  None     Adjusted R2 score:  0.68641\n",
      "Max_features option:  0.5      Adjusted R2 score:  0.71939\n",
      "Max_features option:  3        Adjusted R2 score:  0.71939\n",
      "Max_features option:  sqrt     Adjusted R2 score:  0.71587\n",
      "Max_features option:  log2     Adjusted R2 score:  0.71587\n"
     ]
    }
   ],
   "source": [
    "adj_R2_max_features()"
   ]
  },
  {
   "cell_type": "markdown",
   "metadata": {},
   "source": [
    "#### 4. Minimum number of samples in each leaf node"
   ]
  },
  {
   "cell_type": "code",
   "execution_count": 155,
   "metadata": {
    "scrolled": false
   },
   "outputs": [
    {
     "name": "stdout",
     "output_type": "stream",
     "text": [
      "min_samples_leafs:  0.02     adj.R2:  0.6803748718378093\n",
      "min_samples_leafs:  0.03     adj.R2:  0.6518921331357306\n",
      "min_samples_leafs:  0.04     adj.R2:  0.6244504528200922\n",
      "min_samples_leafs:  0.05     adj.R2:  0.5933338068868511\n",
      "min_samples_leafs:  0.06     adj.R2:  0.5698248834143512\n",
      "min_samples_leafs:  0.07     adj.R2:  0.5735440427323356\n",
      "min_samples_leafs:  0.08     adj.R2:  0.570211596301279\n",
      "min_samples_leafs:  0.09     adj.R2:  0.558265508062949\n",
      "min_samples_leafs:  0.1     adj.R2:  0.550210897931811\n",
      "min_samples_leafs:  0.11     adj.R2:  0.5443656367899997\n",
      "min_samples_leafs:  0.12     adj.R2:  0.5349297933214543\n",
      "min_samples_leafs:  0.13     adj.R2:  0.5318130340390835\n",
      "min_samples_leafs:  0.14     adj.R2:  0.48798348510917156\n",
      "min_samples_leafs:  0.15     adj.R2:  0.4769311578150913\n",
      "min_samples_leafs:  0.16     adj.R2:  0.4011443464916953\n",
      "min_samples_leafs:  0.17     adj.R2:  0.4379309703226706\n",
      "min_samples_leafs:  0.18     adj.R2:  0.39808315797606153\n",
      "min_samples_leafs:  0.19     adj.R2:  0.3972173407087747\n",
      "min_samples_leafs:  0.2     adj.R2:  0.39102780317845287\n",
      "min_samples_leafs:  0.21     adj.R2:  0.3739547189590384\n",
      "min_samples_leafs:  0.22     adj.R2:  0.25450254767400526\n",
      "min_samples_leafs:  0.23     adj.R2:  0.2514124606796022\n",
      "min_samples_leafs:  0.24     adj.R2:  0.2505494273727926\n",
      "min_samples_leafs:  0.25     adj.R2:  0.24601655733282113\n",
      "min_samples_leafs:  0.26     adj.R2:  0.24345525500728593\n",
      "min_samples_leafs:  0.27     adj.R2:  0.2682446753044566\n",
      "min_samples_leafs:  0.28     adj.R2:  0.2682446753044566\n",
      "min_samples_leafs:  0.29     adj.R2:  0.2356389036707336\n",
      "min_samples_leafs:  0.3     adj.R2:  0.17746810568918103\n",
      "min_samples_leafs:  0.31     adj.R2:  -2.0057318116074656\n",
      "min_samples_leafs:  0.32     adj.R2:  -15.988864453518104\n",
      "min_samples_leafs:  0.33     adj.R2:  -1.7354959961005472e+30\n",
      "min_samples_leafs:  0.34     adj.R2:  -1.7354959961005472e+30\n",
      "min_samples_leafs:  0.35     adj.R2:  -1.7354959961005472e+30\n",
      "min_samples_leafs:  0.36     adj.R2:  -1.7354959961005472e+30\n",
      "min_samples_leafs:  0.37     adj.R2:  -1.7354959961005472e+30\n",
      "min_samples_leafs:  0.38     adj.R2:  -1.7354959961005472e+30\n",
      "min_samples_leafs:  0.39     adj.R2:  -1.7354959961005472e+30\n",
      "min_samples_leafs:  0.4     adj.R2:  -1.7354959961005472e+30\n",
      "min_samples_leafs:  0.41     adj.R2:  -1.7354959961005472e+30\n",
      "min_samples_leafs:  0.42     adj.R2:  -1.7354959961005472e+30\n",
      "min_samples_leafs:  0.43     adj.R2:  -1.7354959961005472e+30\n",
      "min_samples_leafs:  0.44     adj.R2:  -1.7354959961005472e+30\n",
      "min_samples_leafs:  0.45     adj.R2:  -1.7354959961005472e+30\n",
      "min_samples_leafs:  0.46     adj.R2:  -1.7354959961005472e+30\n",
      "min_samples_leafs:  0.47     adj.R2:  -1.7354959961005472e+30\n",
      "min_samples_leafs:  0.48     adj.R2:  -1.7354959961005472e+30\n",
      "min_samples_leafs:  0.49     adj.R2:  -1.7354959961005472e+30\n"
     ]
    },
    {
     "data": {
      "image/png": "[encoded data removed]",
      "text/plain": [
       "<Figure size 1440x576 with 1 Axes>"
      ]
     },
     "metadata": {
      "needs_background": "light"
     },
     "output_type": "display_data"
    }
   ],
   "source": [
    "min_samples_leafs = np.arange(0.02,0.5, 0.01)\n",
    "\n",
    "train_results = []\n",
    "test_results = []\n",
    "for i, min_samples_leaf in enumerate(min_samples_leafs):\n",
    "    rf = RandomForestRegressor(min_samples_leaf=min_samples_leaf, random_state=101)\n",
    "    rf.fit(X_train, y_train)\n",
    "    train_pred = rf.predict(X_train)\n",
    "    r2_train = r2_score(train_pred, y_train)\n",
    "    adjst_R2_train = 1 - (1 - r2_train*(X_train.shape[0] - 1)/(X_train.shape[0] - X_train.shape[1] - 1))\n",
    "    train_results.append(adjst_R2_train)\n",
    "    \n",
    "    y_pred = rf.predict(X_test)\n",
    "    r2_test = r2_score(y_pred, y_test)\n",
    "    adjst_R2_test = 1 - (1 - r2_test*(X_test.shape[0] - 1)/(X_test.shape[0] - X_test.shape[1] - 1))\n",
    "    test_results.append(adjst_R2_test)\n",
    "    print(\"min_samples_leafs: \", round(min_samples_leaf,3), \" \", \" \", \"adj.R2: \", test_results[i])\n",
    "\n",
    "from matplotlib.legend_handler import HandlerLine2D\n",
    "plt.figure(figsize = (20,8))\n",
    "line1, = plt.plot(min_samples_leafs, train_results, 'b', label=\"Train Adj.R2\")\n",
    "line2, = plt.plot(min_samples_leafs, test_results, 'r', label=\"Test Adj.R2\")\n",
    "plt.legend(handler_map={line1: HandlerLine2D(numpoints=2)})\n",
    "plt.ylabel(\"Adjusted R-squared score\")\n",
    "plt.xlabel(\"min_samples_leafs\")\n",
    "plt.show()\n"
   ]
  },
  {
   "cell_type": "markdown",
   "metadata": {},
   "source": [
    "### Training a new model setting hyperparameters according to findings in the previous section"
   ]
  },
  {
   "cell_type": "code",
   "execution_count": 188,
   "metadata": {},
   "outputs": [],
   "source": [
    "randomForestTuned = RandomForestRegressor(max_depth = 10, max_features=0.5, n_estimators=12,\\\n",
    "              min_samples_leaf=0.02, random_state=123)"
   ]
  },
  {
   "cell_type": "code",
   "execution_count": 189,
   "metadata": {},
   "outputs": [
    {
     "data": {
      "text/plain": [
       "RandomForestRegressor(bootstrap=True, criterion='mse', max_depth=10,\n",
       "           max_features=0.5, max_leaf_nodes=None,\n",
       "           min_impurity_decrease=0.0, min_impurity_split=None,\n",
       "           min_samples_leaf=0.02, min_samples_split=2,\n",
       "           min_weight_fraction_leaf=0.0, n_estimators=12, n_jobs=None,\n",
       "           oob_score=False, random_state=123, verbose=0, warm_start=False)"
      ]
     },
     "execution_count": 189,
     "metadata": {},
     "output_type": "execute_result"
    }
   ],
   "source": [
    "randomForestTuned.fit(X_train, y_train)"
   ]
  },
  {
   "cell_type": "code",
   "execution_count": 190,
   "metadata": {},
   "outputs": [],
   "source": [
    "y_predTuned = randomForestTuned.predict(X_test)"
   ]
  },
  {
   "cell_type": "markdown",
   "metadata": {},
   "source": [
    "#### Evaluating the new model"
   ]
  },
  {
   "cell_type": "code",
   "execution_count": 196,
   "metadata": {},
   "outputs": [
    {
     "name": "stdout",
     "output_type": "stream",
     "text": [
      "Mean Absolute Error: 0.05\n",
      "Mean Squared Error: 0.01\n",
      "R-squared scores: 0.727\n",
      "Adj.R-squared scores: 0.721\n"
     ]
    }
   ],
   "source": [
    "# Mean absolute error (MAE)\n",
    "mae = mean_absolute_error(y_test, y_predTuned)\n",
    "\n",
    "# Mean squared error (MSE)\n",
    "mse = mean_squared_error(y_test, y_predTuned)\n",
    "\n",
    "# R-squared scores\n",
    "r2 = r2_score(y_test, y_predTuned)\n",
    "\n",
    "# Adjusted R-squared scores\n",
    "adj_r2 = 1 - (1 - r2)*(X_train.shape[0] - 1)/(X_train.shape[0] - X_train.shape[1] - 1)\n",
    "\n",
    "# Print metrics\n",
    "print('Mean Absolute Error:', round(mae, 2))\n",
    "print('Mean Squared Error:', round(mse, 2))\n",
    "print('R-squared scores:', round(r2, 3))\n",
    "print('Adj.R-squared scores:', round(adj_r2, 3))"
   ]
  }
 ],
 "metadata": {
  "kernelspec": {
   "display_name": "Python 3",
   "language": "python",
   "name": "python3"
  },
  "language_info": {
   "codemirror_mode": {
    "name": "ipython",
    "version": 3
   },
   "file_extension": ".py",
   "mimetype": "text/x-python",
   "name": "python",
   "nbconvert_exporter": "python",
   "pygments_lexer": "ipython3",
   "version": "3.7.3"
  }
 },
 "nbformat": 4,
 "nbformat_minor": 2
}
